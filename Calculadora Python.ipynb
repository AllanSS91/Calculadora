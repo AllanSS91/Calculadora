{
 "cells": [
  {
   "cell_type": "markdown",
   "id": "13b99d6a-b2d0-450e-9850-57bb5c1c4661",
   "metadata": {},
   "source": [
    "### Calculadora PYTHON"
   ]
  },
  {
   "cell_type": "code",
   "execution_count": 4,
   "id": "6e89ffcc-218a-4013-8e1c-e4ab8d045202",
   "metadata": {},
   "outputs": [
    {
     "name": "stdout",
     "output_type": "stream",
     "text": [
      "**********Python Calculator**********\n",
      "\n",
      "Selecione o número da opção desejada: \n",
      "\n",
      "1 - Soma\n",
      "2 - Subtração\n",
      "3 - Multiplicação\n",
      "4 - Divisão\n"
     ]
    },
    {
     "name": "stdin",
     "output_type": "stream",
     "text": [
      "\n",
      "Digite sua opção (1/2/3/4):  4\n",
      "\n",
      "Digite o primeiro número:  100\n",
      "\n",
      "Digite o segundo número:  5\n"
     ]
    },
    {
     "name": "stdout",
     "output_type": "stream",
     "text": [
      "100 / 5 = 20\n"
     ]
    }
   ],
   "source": [
    "def soma(x, y):\n",
    "    return x + y\n",
    "\n",
    "def subtracao(x, y):\n",
    "    return x - y\n",
    "    \n",
    "def multiplicacao(x, y):\n",
    "    return x * y\n",
    "\n",
    "def divisao(x, y):\n",
    "    return x // y\n",
    "\n",
    "print('**********Python Calculator**********')\n",
    "\n",
    "print(\"\\nSelecione o número da opção desejada: \\n\")\n",
    "\n",
    "print(\"1 - Soma\")\n",
    "print(\"2 - Subtração\")\n",
    "print(\"3 - Multiplicação\")\n",
    "print(\"4 - Divisão\")\n",
    "\n",
    "option = int(input(\"\\nDigite sua opção (1/2/3/4): \"))\n",
    "\n",
    "if option <= 0 or option > 4:\n",
    "    print(\"\\nOpção inválida!\\n\")\n",
    "    exit(0)\n",
    "\n",
    "num1 = int(input(\"\\nDigite o primeiro número: \"))\n",
    "num2 = int(input(\"\\nDigite o segundo número: \"))\n",
    "\n",
    "if option == 1:\n",
    "    print(num1, \"+\", num2, \"=\", soma(num1, num2))\n",
    "\n",
    "elif option == 2:\n",
    "    print(num1, \"-\", num2, \"=\", subtracao(num1, num2))\n",
    "\n",
    "elif option == 3:\n",
    "    print(num1, \"*\", num2, \"=\", multiplicacao(num1, num2))\n",
    "\n",
    "elif option == 4:\n",
    "    print(num1, \"/\", num2, \"=\", divisao(num1, num2))"
   ]
  },
  {
   "cell_type": "code",
   "execution_count": null,
   "id": "8be4f406-b9f0-4a26-885f-9d4ce77a34c0",
   "metadata": {},
   "outputs": [],
   "source": []
  }
 ],
 "metadata": {
  "kernelspec": {
   "display_name": "Python 3 (ipykernel)",
   "language": "python",
   "name": "python3"
  },
  "language_info": {
   "codemirror_mode": {
    "name": "ipython",
    "version": 3
   },
   "file_extension": ".py",
   "mimetype": "text/x-python",
   "name": "python",
   "nbconvert_exporter": "python",
   "pygments_lexer": "ipython3",
   "version": "3.12.4"
  }
 },
 "nbformat": 4,
 "nbformat_minor": 5
}
